{
 "cells": [
  {
   "cell_type": "code",
   "execution_count": 7,
   "id": "8f41e08b-2d04-456d-ad5d-aa290d09c753",
   "metadata": {},
   "outputs": [],
   "source": [
    "import numpy as np\n",
    "import pandas as pd\n",
    "from sklearn.cluster import KMeans\n",
    "from pymoo.algorithms.moo.nsga2 import NSGA2\n",
    "from pymoo.optimize import minimize\n",
    "from pymoo.core.problem import Problem\n",
    "\n",
    "# 최적화 문제 정의\n",
    "class MultiObjectiveLogisticsProblem(Problem):\n",
    "\n",
    "    def __init__(self, cluster_data):\n",
    "        super().__init__(n_var=2, n_obj=2, n_constr=0,\n",
    "                         xl=np.array([-90.0, -180.0]),\n",
    "                         xu=np.array([90.0, 180.0]))\n",
    "        self.cluster_data = cluster_data\n",
    "\n",
    "    def _evaluate(self, X, out, *args, **kwargs):\n",
    "        f1 = []  # 배송 거리\n",
    "        f2 = []  # 딜레이 값\n",
    "        for x in X:\n",
    "            total_distance = 0\n",
    "            total_delay = 0\n",
    "            for i in range(len(self.cluster_data)):\n",
    "                lat = self.cluster_data.iloc[i]['Geolocation_lat']\n",
    "                lng = self.cluster_data.iloc[i]['Geolocation_lng']\n",
    "                delay = self.cluster_data.iloc[i]['delay_time']\n",
    "                distance = haversine(lat, lng, x[0], x[1])\n",
    "                total_distance += distance\n",
    "                total_delay += delay\n",
    "            f1.append(total_distance)\n",
    "            f2.append(total_delay)\n",
    "        out[\"F\"] = np.column_stack([f1, f2])\n",
    "\n",
    "# 거리 계산 함수\n",
    "def haversine(lat1, lon1, lat2, lon2):\n",
    "    R = 6371  # 지구의 반지름 (km)\n",
    "    d_lat = np.radians(lat2 - lat1)\n",
    "    d_lon = np.radians(lon2 - lon1)\n",
    "    a = np.sin(d_lat / 2) ** 2 + np.cos(np.radians(lat1)) * np.cos(np.radians(lat2)) * np.sin(d_lon / 2) ** 2\n",
    "    c = 2 * np.arctan2(np.sqrt(a), np.sqrt(1 - a))\n",
    "    return R * c\n"
   ]
  },
  {
   "cell_type": "code",
   "execution_count": 10,
   "id": "4d4dcc63-6839-45e4-b5ea-0d41b829026f",
   "metadata": {},
   "outputs": [],
   "source": [
    "\n",
    "# 데이터 로드 및 전처리\n",
    "data = pd.read_csv(\"delivery_location.csv\")\n",
    "\n",
    "# 날짜 형식 변환\n",
    "data['Order_purchase_timestamp'] = pd.to_datetime(data['Order_purchase_timestamp'])\n",
    "data['Order_delivered_customer_date'] = pd.to_datetime(data['Order_delivered_customer_date'])\n",
    "\n",
    "# 지연 시간 계산 (구매 시간 대비 실제 배송 시간)\n",
    "data['delay_time'] = (data['Order_delivered_customer_date'] - data['Order_purchase_timestamp']).dt.total_seconds() / 3600  # 시간 단위"
   ]
  },
  {
   "cell_type": "code",
   "execution_count": 11,
   "id": "acee99b2-8167-4bf7-a4e4-9ba897233cbb",
   "metadata": {},
   "outputs": [],
   "source": [
    "# 클러스터링 수행(9만개 데이터로 너무 많아 실행속도가 너무 느림 -> 1000개로 축소하여 분석 진행)\n",
    "num_final_clusters = 1000\n",
    "coords = data[['Geolocation_lat', 'Geolocation_lng']].values\n",
    "kmeans = KMeans(n_clusters=num_final_clusters, random_state=0).fit(coords)\n",
    "data['cluster'] = kmeans.labels_"
   ]
  },
  {
   "cell_type": "code",
   "execution_count": 14,
   "id": "f86de601-6075-4bb5-8af2-fd81edc5fe8e",
   "metadata": {},
   "outputs": [],
   "source": [
    "data1 = data.groupby(\"cluster\")[['Geolocation_lat','Geolocation_lng','delay_time']].mean().reset_index()"
   ]
  },
  {
   "cell_type": "code",
   "execution_count": 18,
   "id": "eb6b1f31-4e7d-4c55-bf35-910d784c8092",
   "metadata": {},
   "outputs": [],
   "source": [
    "data1.drop(columns=['cluster'], inplace=True)"
   ]
  },
  {
   "cell_type": "code",
   "execution_count": 19,
   "id": "87238315-9252-4873-b46a-5bfd13cb81fb",
   "metadata": {},
   "outputs": [],
   "source": [
    "# 클러스터링 수행\n",
    "num_final_clusters = 5\n",
    "coords1 = data1[['Geolocation_lat', 'Geolocation_lng']].values\n",
    "final_kmeans = KMeans(n_clusters=num_final_clusters, random_state=0).fit(coords1)\n",
    "data1['cluster'] = final_kmeans.labels_"
   ]
  },
  {
   "cell_type": "code",
   "execution_count": 21,
   "id": "ecf2450a-357f-461f-8bad-df5d62af6ab8",
   "metadata": {},
   "outputs": [
    {
     "data": {
      "text/plain": [
       "cluster\n",
       "4    433\n",
       "1    228\n",
       "0    169\n",
       "3     95\n",
       "2     75\n",
       "Name: count, dtype: int64"
      ]
     },
     "execution_count": 21,
     "metadata": {},
     "output_type": "execute_result"
    }
   ],
   "source": [
    "data1['cluster'].value_counts()"
   ]
  },
  {
   "cell_type": "code",
   "execution_count": 22,
   "id": "3deb145a-59cc-4161-98eb-9a685560b7ed",
   "metadata": {},
   "outputs": [
    {
     "name": "stdout",
     "output_type": "stream",
     "text": [
      "Cluster 1 - Optimal Location: Latitude -9.35254615165369, Longitude -38.70385475428203, Function Values: [[71893.22497137 83460.46793053]]\n",
      "Cluster 2 - Optimal Location: Latitude -26.316037120127657, Longitude -51.587051934975584, Function Values: [[83006.39060077 77206.31913531]]\n",
      "Cluster 3 - Optimal Location: Latitude -12.186938225549543, Longitude -58.16540041365623, Function Values: [[41461.65743177 36664.99227984]]\n",
      "Cluster 4 - Optimal Location: Latitude -5.073766581459029, Longitude -46.66793689625047, Function Values: [[48109.5860728  52826.51772666]\n",
      " [48109.5860728  52826.51772666]\n",
      " [48109.5860728  52826.51772666]\n",
      " [48109.5860728  52826.51772666]]\n",
      "Cluster 5 - Optimal Location: Latitude -20.98257694944194, Longitude -45.90343151948893, Function Values: [[170125.21141388 135095.94135103]\n",
      " [170125.21141388 135095.94135103]]\n"
     ]
    }
   ],
   "source": [
    "# 각 클러스터별 최적의 물류 센터 위치 찾기\n",
    "optimal_centers = []\n",
    "for label in range(num_final_clusters):\n",
    "    cluster_data = data1[data1['cluster'] == label]\n",
    "    problem = MultiObjectiveLogisticsProblem(cluster_data)\n",
    "    algorithm = NSGA2(pop_size=100)\n",
    "    termination = ('n_gen', 200)\n",
    "    res = minimize(problem,\n",
    "                   algorithm,\n",
    "                   termination,\n",
    "                   seed=1,\n",
    "                   save_history=True)\n",
    "    optimal_centers.append((res.X, res.F))\n",
    "\n",
    "# 결과 출력\n",
    "for i, (solution, function_values) in enumerate(optimal_centers):\n",
    "    print(f\"Cluster {i+1} - Optimal Location: Latitude {solution[0][0]}, Longitude {solution[0][1]}, Function Values: {function_values}\")"
   ]
  },
  {
   "cell_type": "code",
   "execution_count": 25,
   "id": "72aabbb3-3955-45d5-b432-a29184bbca2c",
   "metadata": {},
   "outputs": [
    {
     "data": {
      "text/html": [
       "<div style=\"width:100%;\"><div style=\"position:relative;width:100%;height:0;padding-bottom:60%;\"><span style=\"color:#565656\">Make this Notebook Trusted to load map: File -> Trust Notebook</span><iframe srcdoc=\"&lt;!DOCTYPE html&gt;\n",
       "&lt;html&gt;\n",
       "&lt;head&gt;\n",
       "    \n",
       "    &lt;meta http-equiv=&quot;content-type&quot; content=&quot;text/html; charset=UTF-8&quot; /&gt;\n",
       "    \n",
       "        &lt;script&gt;\n",
       "            L_NO_TOUCH = false;\n",
       "            L_DISABLE_3D = false;\n",
       "        &lt;/script&gt;\n",
       "    \n",
       "    &lt;style&gt;html, body {width: 100%;height: 100%;margin: 0;padding: 0;}&lt;/style&gt;\n",
       "    &lt;style&gt;#map {position:absolute;top:0;bottom:0;right:0;left:0;}&lt;/style&gt;\n",
       "    &lt;script src=&quot;https://cdn.jsdelivr.net/npm/leaflet@1.9.3/dist/leaflet.js&quot;&gt;&lt;/script&gt;\n",
       "    &lt;script src=&quot;https://code.jquery.com/jquery-3.7.1.min.js&quot;&gt;&lt;/script&gt;\n",
       "    &lt;script src=&quot;https://cdn.jsdelivr.net/npm/bootstrap@5.2.2/dist/js/bootstrap.bundle.min.js&quot;&gt;&lt;/script&gt;\n",
       "    &lt;script src=&quot;https://cdnjs.cloudflare.com/ajax/libs/Leaflet.awesome-markers/2.0.2/leaflet.awesome-markers.js&quot;&gt;&lt;/script&gt;\n",
       "    &lt;link rel=&quot;stylesheet&quot; href=&quot;https://cdn.jsdelivr.net/npm/leaflet@1.9.3/dist/leaflet.css&quot;/&gt;\n",
       "    &lt;link rel=&quot;stylesheet&quot; href=&quot;https://cdn.jsdelivr.net/npm/bootstrap@5.2.2/dist/css/bootstrap.min.css&quot;/&gt;\n",
       "    &lt;link rel=&quot;stylesheet&quot; href=&quot;https://netdna.bootstrapcdn.com/bootstrap/3.0.0/css/bootstrap.min.css&quot;/&gt;\n",
       "    &lt;link rel=&quot;stylesheet&quot; href=&quot;https://cdn.jsdelivr.net/npm/@fortawesome/fontawesome-free@6.2.0/css/all.min.css&quot;/&gt;\n",
       "    &lt;link rel=&quot;stylesheet&quot; href=&quot;https://cdnjs.cloudflare.com/ajax/libs/Leaflet.awesome-markers/2.0.2/leaflet.awesome-markers.css&quot;/&gt;\n",
       "    &lt;link rel=&quot;stylesheet&quot; href=&quot;https://cdn.jsdelivr.net/gh/python-visualization/folium/folium/templates/leaflet.awesome.rotate.min.css&quot;/&gt;\n",
       "    \n",
       "            &lt;meta name=&quot;viewport&quot; content=&quot;width=device-width,\n",
       "                initial-scale=1.0, maximum-scale=1.0, user-scalable=no&quot; /&gt;\n",
       "            &lt;style&gt;\n",
       "                #map_e16a48782b3c00068764fd71ca361640 {\n",
       "                    position: relative;\n",
       "                    width: 100.0%;\n",
       "                    height: 100.0%;\n",
       "                    left: 0.0%;\n",
       "                    top: 0.0%;\n",
       "                }\n",
       "                .leaflet-container { font-size: 1rem; }\n",
       "            &lt;/style&gt;\n",
       "        \n",
       "&lt;/head&gt;\n",
       "&lt;body&gt;\n",
       "    \n",
       "    \n",
       "            &lt;div class=&quot;folium-map&quot; id=&quot;map_e16a48782b3c00068764fd71ca361640&quot; &gt;&lt;/div&gt;\n",
       "        \n",
       "&lt;/body&gt;\n",
       "&lt;script&gt;\n",
       "    \n",
       "    \n",
       "            var map_e16a48782b3c00068764fd71ca361640 = L.map(\n",
       "                &quot;map_e16a48782b3c00068764fd71ca361640&quot;,\n",
       "                {\n",
       "                    center: [-14.782373005646368, -48.205535103730654],\n",
       "                    crs: L.CRS.EPSG3857,\n",
       "                    zoom: 2,\n",
       "                    zoomControl: true,\n",
       "                    preferCanvas: false,\n",
       "                }\n",
       "            );\n",
       "\n",
       "            \n",
       "\n",
       "        \n",
       "    \n",
       "            var tile_layer_36e7ef2c6512c967bc657f79ba46c121 = L.tileLayer(\n",
       "                &quot;https://tile.openstreetmap.org/{z}/{x}/{y}.png&quot;,\n",
       "                {&quot;attribution&quot;: &quot;\\u0026copy; \\u003ca href=\\&quot;https://www.openstreetmap.org/copyright\\&quot;\\u003eOpenStreetMap\\u003c/a\\u003e contributors&quot;, &quot;detectRetina&quot;: false, &quot;maxNativeZoom&quot;: 19, &quot;maxZoom&quot;: 19, &quot;minZoom&quot;: 0, &quot;noWrap&quot;: false, &quot;opacity&quot;: 1, &quot;subdomains&quot;: &quot;abc&quot;, &quot;tms&quot;: false}\n",
       "            );\n",
       "        \n",
       "    \n",
       "            tile_layer_36e7ef2c6512c967bc657f79ba46c121.addTo(map_e16a48782b3c00068764fd71ca361640);\n",
       "        \n",
       "    \n",
       "            var marker_49b99ead4993695e65c4a283d71aab09 = L.marker(\n",
       "                [-9.35254615165369, -38.70385475428203],\n",
       "                {}\n",
       "            ).addTo(map_e16a48782b3c00068764fd71ca361640);\n",
       "        \n",
       "    \n",
       "            var marker_7df8e6e3407b5a5d06c16ddf0887e4ec = L.marker(\n",
       "                [-26.316037120127657, -51.587051934975584],\n",
       "                {}\n",
       "            ).addTo(map_e16a48782b3c00068764fd71ca361640);\n",
       "        \n",
       "    \n",
       "            var marker_753c42ee62b7b98c250b40de7a2af27a = L.marker(\n",
       "                [-12.186938225549543, -58.16540041365623],\n",
       "                {}\n",
       "            ).addTo(map_e16a48782b3c00068764fd71ca361640);\n",
       "        \n",
       "    \n",
       "            var marker_8ec182f9f3c8248ac711c86dc8968c07 = L.marker(\n",
       "                [-5.073766581459029, -46.66793689625047],\n",
       "                {}\n",
       "            ).addTo(map_e16a48782b3c00068764fd71ca361640);\n",
       "        \n",
       "    \n",
       "            var marker_dd26446b96f7d7a2581611ac3d2d8bc7 = L.marker(\n",
       "                [-20.98257694944194, -45.90343151948893],\n",
       "                {}\n",
       "            ).addTo(map_e16a48782b3c00068764fd71ca361640);\n",
       "        \n",
       "&lt;/script&gt;\n",
       "&lt;/html&gt;\" style=\"position:absolute;width:100%;height:100%;left:0;top:0;border:none !important;\" allowfullscreen webkitallowfullscreen mozallowfullscreen></iframe></div></div>"
      ],
      "text/plain": [
       "<folium.folium.Map at 0x2397c58b510>"
      ]
     },
     "metadata": {},
     "output_type": "display_data"
    }
   ],
   "source": [
    "import folium\n",
    "from IPython.display import display\n",
    "\n",
    "# 최적 위치 좌표\n",
    "optimal_locations = [(-9.35254615165369, -38.70385475428203), (-26.316037120127657, -51.587051934975584), (-12.186938225549543, -58.16540041365623), (-5.073766581459029,-46.66793689625047), (-20.98257694944194, -45.90343151948893)]\n",
    "\n",
    "latitudes = [loc[0] for loc in optimal_locations]\n",
    "longitudes = [loc[1] for loc in optimal_locations]\n",
    "map_center = [np.mean(latitudes), np.mean(longitudes)]\n",
    "\n",
    "mymap = folium.Map(location=map_center, zoom_start=2)\n",
    "\n",
    "for location in optimal_locations:\n",
    "    folium.Marker(location=location).add_to(mymap)\n",
    "\n",
    "\n",
    "display(mymap)"
   ]
  },
  {
   "cell_type": "code",
   "execution_count": null,
   "id": "94fe6c4e-7a56-4391-a7eb-bf07c0b7ea82",
   "metadata": {},
   "outputs": [],
   "source": []
  }
 ],
 "metadata": {
  "kernelspec": {
   "display_name": "Python 3 (ipykernel)",
   "language": "python",
   "name": "python3"
  },
  "language_info": {
   "codemirror_mode": {
    "name": "ipython",
    "version": 3
   },
   "file_extension": ".py",
   "mimetype": "text/x-python",
   "name": "python",
   "nbconvert_exporter": "python",
   "pygments_lexer": "ipython3",
   "version": "3.11.9"
  }
 },
 "nbformat": 4,
 "nbformat_minor": 5
}
